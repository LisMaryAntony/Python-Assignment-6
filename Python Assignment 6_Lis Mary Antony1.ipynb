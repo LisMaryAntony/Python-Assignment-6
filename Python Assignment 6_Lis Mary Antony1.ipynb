{
 "cells": [
  {
   "cell_type": "markdown",
   "id": "4857debe-85e9-437b-b34d-1f67103bf3e4",
   "metadata": {},
   "source": [
    "# Exercise 1"
   ]
  },
  {
   "cell_type": "code",
   "execution_count": 3,
   "id": "27bc4035-2871-4423-9113-002f5ff7f9a0",
   "metadata": {},
   "outputs": [],
   "source": [
    "import math as m"
   ]
  },
  {
   "cell_type": "code",
   "execution_count": 27,
   "id": "b95ef9b0-072b-454e-83f0-809186082eda",
   "metadata": {},
   "outputs": [
    {
     "name": "stdin",
     "output_type": "stream",
     "text": [
      "Enter the number:  121\n"
     ]
    },
    {
     "name": "stdout",
     "output_type": "stream",
     "text": [
      "The square root of 121 is 11.0.\n"
     ]
    }
   ],
   "source": [
    "n = int(input(\"Enter the number: \"))\n",
    "\n",
    "def square_root(n):\n",
    "    return m.sqrt(n)\n",
    "\n",
    "Ans = square_root(n)\n",
    "print(f\"The square root of {n} is {Ans}.\")"
   ]
  },
  {
   "cell_type": "markdown",
   "id": "caae2e1b-59df-47cb-b414-b124f1a66cd0",
   "metadata": {},
   "source": [
    "# Exercise 2"
   ]
  },
  {
   "cell_type": "code",
   "execution_count": 9,
   "id": "48344448-c387-4da4-b77e-236ad7ff75f1",
   "metadata": {},
   "outputs": [],
   "source": [
    "import random as r"
   ]
  },
  {
   "cell_type": "code",
   "execution_count": 23,
   "id": "25ed8499-50d0-4465-b6a1-6273b71b49ea",
   "metadata": {},
   "outputs": [
    {
     "name": "stdout",
     "output_type": "stream",
     "text": [
      "Random number between 1 and 10 is 5.\n"
     ]
    }
   ],
   "source": [
    "def random_number():\n",
    "    return r.randint(1, 10)\n",
    "\n",
    "num = random_number()\n",
    "print(f\"Random number between 1 and 10 is {num}.\")"
   ]
  },
  {
   "cell_type": "code",
   "execution_count": 25,
   "id": "1ec52b5d-d2f5-49ec-9d4a-b229fe6d11a1",
   "metadata": {},
   "outputs": [
    {
     "data": {
      "text/plain": [
       "2"
      ]
     },
     "execution_count": 25,
     "metadata": {},
     "output_type": "execute_result"
    }
   ],
   "source": [
    "random_number()"
   ]
  },
  {
   "cell_type": "markdown",
   "id": "336b0981-a316-47fa-8e8d-ecb11f0aadb0",
   "metadata": {},
   "source": [
    "# Exercise 3"
   ]
  },
  {
   "cell_type": "code",
   "execution_count": 33,
   "id": "79dcdf04-9f2e-4085-a338-a45e79ed845b",
   "metadata": {},
   "outputs": [
    {
     "name": "stdin",
     "output_type": "stream",
     "text": [
      "Enter the number:  5\n"
     ]
    },
    {
     "name": "stdout",
     "output_type": "stream",
     "text": [
      "The factorial of 5 is 120.\n"
     ]
    }
   ],
   "source": [
    "a = int(input(\"Enter the number: \"))\n",
    "\n",
    "def factorial(a):\n",
    "    return m.factorial(a)\n",
    "\n",
    "Answ = factorial(a)\n",
    "print(f\"The factorial of {a} is {Answ}.\")"
   ]
  },
  {
   "cell_type": "code",
   "execution_count": null,
   "id": "a340748e-bd82-4fc1-8ea3-b1ec2a54acc0",
   "metadata": {},
   "outputs": [],
   "source": []
  }
 ],
 "metadata": {
  "kernelspec": {
   "display_name": "Python 3 (ipykernel)",
   "language": "python",
   "name": "python3"
  },
  "language_info": {
   "codemirror_mode": {
    "name": "ipython",
    "version": 3
   },
   "file_extension": ".py",
   "mimetype": "text/x-python",
   "name": "python",
   "nbconvert_exporter": "python",
   "pygments_lexer": "ipython3",
   "version": "3.12.4"
  }
 },
 "nbformat": 4,
 "nbformat_minor": 5
}
